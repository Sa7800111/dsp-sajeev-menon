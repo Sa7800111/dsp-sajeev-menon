{
 "cells": [
  {
   "cell_type": "code",
   "execution_count": 1,
   "id": "9cc39dd1-5a40-40d4-9b27-9e2e8c5e71b4",
   "metadata": {},
   "outputs": [
    {
     "ename": "ImportError",
     "evalue": "attempted relative import with no known parent package",
     "output_type": "error",
     "traceback": [
      "\u001b[1;31m---------------------------------------------------------------------------\u001b[0m",
      "\u001b[1;31mImportError\u001b[0m                               Traceback (most recent call last)",
      "Cell \u001b[1;32mIn[1], line 4\u001b[0m\n\u001b[0;32m      2\u001b[0m \u001b[38;5;28;01mimport\u001b[39;00m \u001b[38;5;21;01mjoblib\u001b[39;00m\n\u001b[0;32m      3\u001b[0m \u001b[38;5;28;01mimport\u001b[39;00m \u001b[38;5;21;01mos\u001b[39;00m\n\u001b[1;32m----> 4\u001b[0m \u001b[38;5;28;01mfrom\u001b[39;00m \u001b[38;5;21;01m.\u001b[39;00m\u001b[38;5;21;01mpreprocess\u001b[39;00m \u001b[38;5;28;01mimport\u001b[39;00m clean_and_fill_data, preprocess_features\n\u001b[0;32m      6\u001b[0m CONTINOUS_FEATURES \u001b[38;5;241m=\u001b[39m [\u001b[38;5;124m'\u001b[39m\u001b[38;5;124mSalePrice\u001b[39m\u001b[38;5;124m'\u001b[39m , \u001b[38;5;124m'\u001b[39m\u001b[38;5;124mOverallQual\u001b[39m\u001b[38;5;124m'\u001b[39m] \n\u001b[0;32m      7\u001b[0m CATEGORICAL_FEATURES \u001b[38;5;241m=\u001b[39m [\u001b[38;5;124m'\u001b[39m\u001b[38;5;124mNeighborhood\u001b[39m\u001b[38;5;124m'\u001b[39m, \u001b[38;5;124m'\u001b[39m\u001b[38;5;124mExterior2nd\u001b[39m\u001b[38;5;124m'\u001b[39m]\n",
      "\u001b[1;31mImportError\u001b[0m: attempted relative import with no known parent package"
     ]
    }
   ],
   "source": [
    "import pandas as pd\n",
    "import joblib\n",
    "import os\n",
    "from .preprocess import clean_and_fill_data, preprocess_features\n",
    "\n",
    "CONTINOUS_FEATURES = ['SalePrice' , 'OverallQual'] \n",
    "CATEGORICAL_FEATURES = ['Neighborhood', 'Exterior2nd']\n",
    "\n",
    "def make_predictions(test_data: pd.DataFrame) -> pd.DataFrame:\n",
    "    model_dir = '../models'\n",
    "    test_data_ids = test_data['Id'].copy()\n",
    "    test_data_cleand = clean_and_fill_data(test_data)\n",
    "    test_data_processed = preprocess_features(\n",
    "        test_data_cleand,\n",
    "       CONTINOUS_FEATURES,\n",
    "        CATEGORICAL_FEATURES,\n",
    "        model_dir,\n",
    "        'test'\n",
    "    )\n",
    "    model = joblib.load(os.path.join(model_dir, 'model.joblib'))\n",
    "    test_data_pred = model.predict(test_data_processed)\n",
    "    df_combined = pd.DataFrame({\n",
    "        'Id': test_data_ids,\n",
    "        'pred_sales_price': test_data_pred\n",
    "    })\n",
    "    return df_combined"
   ]
  },
  {
   "cell_type": "code",
   "execution_count": null,
   "id": "a6a5ed1b-a59c-434d-bc43-1b89bb5b1d1d",
   "metadata": {},
   "outputs": [],
   "source": []
  }
 ],
 "metadata": {
  "kernelspec": {
   "display_name": "Python 3 (ipykernel)",
   "language": "python",
   "name": "python3"
  },
  "language_info": {
   "codemirror_mode": {
    "name": "ipython",
    "version": 3
   },
   "file_extension": ".py",
   "mimetype": "text/x-python",
   "name": "python",
   "nbconvert_exporter": "python",
   "pygments_lexer": "ipython3",
   "version": "3.12.4"
  }
 },
 "nbformat": 4,
 "nbformat_minor": 5
}
