{
 "cells": [
  {
   "cell_type": "code",
   "execution_count": 1,
   "id": "05f519c9-6d86-4263-ae14-4e3a0d74b220",
   "metadata": {},
   "outputs": [],
   "source": [
    "import numpy as np\n",
    "import pandas as pd\n",
    "import joblib\n",
    "import os\n",
    "from sklearn.preprocessing import StandardScaler, OneHotEncoder\n",
    "\n",
    "def clean_and_fill_data(data: pd.DataFrame) -> pd.DataFrame:\n",
    "    columns_to_drop = ['Alley', 'MasVnrType', 'PoolQC', 'Fence', 'MiscFeature',\n",
    "                       'FireplaceQu', 'Id', 'GarageYrBlt', '1stFlrSF',\n",
    "                       'TotRmsAbvGrd', 'GarageArea']\n",
    "    data.drop(columns=columns_to_drop, axis=1, inplace=True)\n",
    "    continous_cols = data.select_dtypes(include=[np.number]).columns.tolist()\n",
    "    categorical_cols = data.select_dtypes(exclude=[np.number]).columns.tolist()\n",
    "    for col in continous_cols:\n",
    "        data[col] = data[col].fillna(data[col].mean())\n",
    "    for col in categorical_cols:\n",
    "        data[col] = data[col].fillna(data[col].mode()[0])\n",
    "    return data\n",
    "\n",
    "def scale_continous_features(data, continous_features, model_dir, mode='train') -> np.ndarray:\n",
    "    scaler_path = os.path.join(model_dir, 'scaler.joblib')\n",
    "    if mode == 'train':\n",
    "        scaler = StandardScaler()\n",
    "        scaler.fit(data[continous_features])\n",
    "        joblib.dump(scaler, scaler_path)\n",
    "    else:\n",
    "        if not os.path.exists(scaler_path):\n",
    "            raise FileNotFoundError(f\"Scaler object not found at {scaler_path}. \"\n",
    "                                    f\"Please fit it in train mode.\")\n",
    "        scaler = joblib.load(scaler_path)\n",
    "        data_scaled = scaler.transform(data[numeric_features])\n",
    "        return data_scaled\n",
    "\n",
    "def encode_categorical_features(data, categorical_features, model_dir, mode='train') -> np.ndarray:\n",
    "    encoder_path = os.path.join(model_dir, 'encoder.joblib')\n",
    "    if mode == 'train':\n",
    "        encoder = OneHotEncoder(handle_unknown='ignore')\n",
    "        encoder.fit(data[categorical_features])\n",
    "        joblib.dump(encoder, encoder_path)\n",
    "    else:\n",
    "        if not os.path.exists(encoder_path):\n",
    "            raise FileNotFoundError(f\"Encoder object not found at {encoder_path}. \"\n",
    "                                    f\"Please fit it in train mode.\")\n",
    "        encoder = joblib.load(encoder_path)\n",
    "        data_encoded = encoder.transform(data[categorical_features]).toarray()\n",
    "        return data_encoded\n",
    "\n",
    "def preprocess_features(data, continous_features, categorical_features, model_dir, mode='train') -> np.ndarray:\n",
    "    data_encoded = encode_categorical_features(data, categorical_features, model_dir, mode)\n",
    "    data_scaled = scale_continous_features(data, continous_features, model_dir, mode)\n",
    "    processed_data = np.hstack((data_scaled, data_encoded))\n",
    "    return processed_data"
   ]
  },
  {
   "cell_type": "code",
   "execution_count": null,
   "id": "4677f014-d50b-46f4-b74b-aba481ef818a",
   "metadata": {},
   "outputs": [],
   "source": []
  },
  {
   "cell_type": "code",
   "execution_count": null,
   "id": "67f988a1-d18c-4737-b7c6-84b2b7dc18d0",
   "metadata": {},
   "outputs": [],
   "source": []
  }
 ],
 "metadata": {
  "kernelspec": {
   "display_name": "Python 3 (ipykernel)",
   "language": "python",
   "name": "python3"
  },
  "language_info": {
   "codemirror_mode": {
    "name": "ipython",
    "version": 3
   },
   "file_extension": ".py",
   "mimetype": "text/x-python",
   "name": "python",
   "nbconvert_exporter": "python",
   "pygments_lexer": "ipython3",
   "version": "3.12.4"
  }
 },
 "nbformat": 4,
 "nbformat_minor": 5
}
