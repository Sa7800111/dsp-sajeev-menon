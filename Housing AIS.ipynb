{
 "cells": [
  {
   "cell_type": "code",
   "execution_count": null,
   "id": "115f5e97-e0ce-41dd-974a-f8d1d88ad617",
   "metadata": {},
   "outputs": [],
   "source": [
    "Data science AIS assinment "
   ]
  },
  {
   "cell_type": "code",
   "execution_count": null,
   "id": "16b9a7f9-6d66-4220-b6bb-b70076657a44",
   "metadata": {},
   "outputs": [],
   "source": [
    "Housing price"
   ]
  },
  {
   "cell_type": "code",
   "execution_count": null,
   "id": "26afe3a8-2fc4-4729-8ded-2b9d5618e93e",
   "metadata": {},
   "outputs": [],
   "source": [
    "import sklearn \n",
    "import numpy as np\n",
    "import pandas as pd\n",
    "import seaborn as sns\n",
    "import matplotlib.pyplot as plt\n",
    "from sklearn.model_selection import train_test_split\n",
    "from sklearn.preprocessing import OneHotEncoder, StandardScaler\n",
    "from sklearn.compose import ColumnTransformer\n",
    "from sklearn.metrics import mean_squared_log_error\n",
    "from sklearn.linear_model import LinearRegression"
   ]
  },
  {
   "cell_type": "code",
   "execution_count": null,
   "id": "43db8815-508e-4b3c-9eab-341c337c2cd2",
   "metadata": {},
   "outputs": [],
   "source": [
    "Data set file "
   ]
  },
  {
   "cell_type": "code",
   "execution_count": null,
   "id": "c6df1b48-523b-4b3e-bcfa-05e3aee5fbd3",
   "metadata": {},
   "outputs": [],
   "source": [
    "file_path = '../data/house-prices-advanced-regression-techniques/train.csv'\n",
    "dataset_raw = pd.read_csv(file_path, index_col=0)\n",
    "dataset_raw.head()"
   ]
  },
  {
   "cell_type": "code",
   "execution_count": null,
   "id": "fab070d5-e118-4ead-8953-64720fda371a",
   "metadata": {},
   "outputs": [],
   "source": [
    "Data Exploration"
   ]
  },
  {
   "cell_type": "code",
   "execution_count": null,
   "id": "cceb3479-ff55-4159-a98a-403c3a22f33d",
   "metadata": {},
   "outputs": [],
   "source": [
    "dataset_raw.describe()"
   ]
  },
  {
   "cell_type": "code",
   "execution_count": null,
   "id": "7d9247e5-78d4-4199-b926-668fb3f1e550",
   "metadata": {},
   "outputs": [],
   "source": [
    "Data set types"
   ]
  },
  {
   "cell_type": "code",
   "execution_count": null,
   "id": "5c7adc76-79b7-458f-b3f1-f30e172d801b",
   "metadata": {},
   "outputs": [],
   "source": [
    "dataset_raw.dtypes"
   ]
  },
  {
   "cell_type": "code",
   "execution_count": null,
   "id": "1da593f8-418f-4430-ac41-4e4a14c64985",
   "metadata": {},
   "outputs": [],
   "source": [
    "Selected Columns"
   ]
  },
  {
   "cell_type": "code",
   "execution_count": null,
   "id": "cf32b99e-6118-4873-8ef1-8d47c23ac493",
   "metadata": {},
   "outputs": [],
   "source": [
    "Selected_columns = dataset_raw[['MSSubClass', 'LotArea', 'Street', 'LotShape', 'SalePrice']]\n",
    "Selected_columns.head()"
   ]
  },
  {
   "cell_type": "code",
   "execution_count": null,
   "id": "15101687-dff1-45bd-b920-efcc57a429af",
   "metadata": {},
   "outputs": [],
   "source": [
    "Correlation matrix"
   ]
  },
  {
   "cell_type": "code",
   "execution_count": null,
   "id": "5a39c164-e107-4969-a011-86de27121cca",
   "metadata": {},
   "outputs": [],
   "source": [
    "numeric_features = dataset_raw.select_dtypes(include=[np.number])\n",
    "\n",
    "corr = numeric_features.corr()\n",
    "sns.heatmap(corr, annot=False, cmap='coolwarm', fmt=\".2f\", linewidths=0.5)\n",
    "plt.title(\"Correlation matrix\")\n",
    "plt.show() "
   ]
  },
  {
   "cell_type": "code",
   "execution_count": null,
   "id": "48d87521-348c-469f-a757-cabf535e857f",
   "metadata": {},
   "outputs": [],
   "source": [
    "Data Cleaning "
   ]
  },
  {
   "cell_type": "code",
   "execution_count": null,
   "id": "6df13264-72a5-433d-9162-535d094e4a82",
   "metadata": {},
   "outputs": [],
   "source": [
    "columns_to_check = ['MSSubClass', 'LotArea', 'LotShape', 'Street', 'SalePrice']\n",
    "selected_columns = dataset_raw[columns_to_check]\n",
    "missing_values = selected_columns.isnull().sum()\n",
    "print(missing_values)"
   ]
  },
  {
   "cell_type": "code",
   "execution_count": null,
   "id": "9af2f9e0-650b-41de-b899-6058c837f557",
   "metadata": {},
   "outputs": [],
   "source": [
    "Data Splitting "
   ]
  },
  {
   "cell_type": "code",
   "execution_count": null,
   "id": "064559e2-eac8-4ece-a3f7-e528d08d33ed",
   "metadata": {},
   "outputs": [],
   "source": [
    "X = Selected_columns.drop(columns=['SalePrice'])\n",
    "y = Selected_columns['SalePrice']\n",
    "X_train_clean, X_test_clean, y_train_clean, y_test_clean = train_test_split(X, y, test_size=0.25, random_state=42)\n",
    "y_test_clean"
   ]
  },
  {
   "cell_type": "code",
   "execution_count": null,
   "id": "18cc20b4-328c-4aa6-9417-cb65055b71ef",
   "metadata": {},
   "outputs": [],
   "source": [
    "Data Transformation"
   ]
  },
  {
   "cell_type": "code",
   "execution_count": null,
   "id": "c06df4ab-34da-4fe8-bb1f-296d54fa3f10",
   "metadata": {},
   "outputs": [],
   "source": [
    "categorical_columns = ['LotShape' , 'Street']  \n",
    "numerical_columns = ['MSSubClass', 'LotArea'] \n",
    "\n",
    "\n",
    "\n",
    "global_encoder = ColumnTransformer(transformers=[\n",
    "('one_hot', OneHotEncoder(), categorical_columns),\n",
    "('scaler', StandardScaler(), numerical_columns)\n",
    "], remainder='passthrough'\n",
    ")\n",
    "\n",
    "X_train = global_encoder.fit_transform(X_train_clean)\n",
    "X_test = global_encoder.transform(X_test_clean)\n",
    "y_train = y_train_clean\n",
    "y_test = y_test_clean"
   ]
  },
  {
   "cell_type": "code",
   "execution_count": null,
   "id": "1c9adc77-cccc-428f-902d-e45c95028c71",
   "metadata": {},
   "outputs": [],
   "source": []
  }
 ],
 "metadata": {
  "kernelspec": {
   "display_name": "Python 3 (ipykernel)",
   "language": "python",
   "name": "python3"
  },
  "language_info": {
   "codemirror_mode": {
    "name": "ipython",
    "version": 3
   },
   "file_extension": ".py",
   "mimetype": "text/x-python",
   "name": "python",
   "nbconvert_exporter": "python",
   "pygments_lexer": "ipython3",
   "version": "3.11.7"
  }
 },
 "nbformat": 4,
 "nbformat_minor": 5
}
